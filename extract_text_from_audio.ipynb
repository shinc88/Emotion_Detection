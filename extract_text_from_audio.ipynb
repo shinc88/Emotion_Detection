{
  "nbformat": 4,
  "nbformat_minor": 0,
  "metadata": {
    "colab": {
      "provenance": [],
      "authorship_tag": "ABX9TyPnaSEbuznHxyaCXn4/6jOa",
      "include_colab_link": true
    },
    "kernelspec": {
      "name": "python3",
      "display_name": "Python 3"
    },
    "language_info": {
      "name": "python"
    }
  },
  "cells": [
    {
      "cell_type": "markdown",
      "metadata": {
        "id": "view-in-github",
        "colab_type": "text"
      },
      "source": [
        "<a href=\"https://colab.research.google.com/github/shinc88/Emotion_detection/blob/main/extract_text_from_audio.ipynb\" target=\"_parent\"><img src=\"https://colab.research.google.com/assets/colab-badge.svg\" alt=\"Open In Colab\"/></a>"
      ]
    },
    {
      "cell_type": "code",
      "source": [
        "!pip install SpeechRecognition\n",
        "!pip install SpeechRecognition moviepy\n",
        "!pip install imageio-ffmpeg\n",
        "!pip install --upgrade moviepy\n",
        "import moviepy.editor as mp\n",
        "import speech_recognition as sr\n",
        "r = sr.Recognizer()\n",
        "\n",
        "# from google.colab import drive # for google colab\n",
        "# from google.colab import files # for google colab\n",
        "# drive.mount('/content/gdrive') # for google colab"
      ],
      "metadata": {
        "id": "xRjvpKck2G4Q"
      },
      "execution_count": null,
      "outputs": []
    },
    {
      "cell_type": "code",
      "execution_count": 8,
      "metadata": {
        "colab": {
          "base_uri": "https://localhost:8080/",
          "height": 1000
        },
        "id": "abHN4fLS1g6T",
        "outputId": "1c83178d-721a-4520-ffa3-682fa950affa"
      },
      "outputs": [
        {
          "output_type": "stream",
          "name": "stdout",
          "text": [
            "MoviePy - Writing audio in Greta_UN.wav\n"
          ]
        },
        {
          "output_type": "stream",
          "name": "stderr",
          "text": []
        },
        {
          "output_type": "stream",
          "name": "stdout",
          "text": [
            "MoviePy - Done.\n",
            "result2:\n",
            "{   'alternative': [   {   'confidence': 0.95527059,\n",
            "                           'transcript': \"this is all wrong I shouldn't be up \"\n",
            "                                         'here I should be back in school on '\n",
            "                                         'the other side of the ocean yet you '\n",
            "                                         'all come to us young people for Hope '\n",
            "                                         'how dare you you have stolen my '\n",
            "                                         'dreams and my childhood with your '\n",
            "                                         \"empty words and yet I'm one of the \"\n",
            "                                         'lucky ones people are suffering '\n",
            "                                         'people are dying entire ecosystems '\n",
            "                                         'are collapsing we are in the '\n",
            "                                         'beginning of a mass extinction and '\n",
            "                                         'all you can talk about is the money '\n",
            "                                         'and fairy tales of Eternal economic '\n",
            "                                         'growth how dare you'},\n",
            "                       {   'transcript': \"this is all wrong I shouldn't be up \"\n",
            "                                         'here I should be back in school on '\n",
            "                                         'the other side of the ocean yet you '\n",
            "                                         'all come to us young people for Hope '\n",
            "                                         'how dare you you have stolen my '\n",
            "                                         'dreams and my childhood with your '\n",
            "                                         \"empty words and yet I'm one of the \"\n",
            "                                         'lucky ones people are suffering '\n",
            "                                         'people are dying entire ecosystems '\n",
            "                                         'are collapsing we are in the '\n",
            "                                         'beginning of a mass extinction and '\n",
            "                                         'all you can talk about is money and '\n",
            "                                         'fairy tales of Eternal economic '\n",
            "                                         'growth how dare you'},\n",
            "                       {   'transcript': \"this is all wrong I shouldn't be up \"\n",
            "                                         'here I should be back in school on '\n",
            "                                         'the other side of the ocean yet you '\n",
            "                                         'all come to us young people for Hope '\n",
            "                                         'how dare you you have stolen my '\n",
            "                                         'dreams and my childhood with your '\n",
            "                                         \"empty words yet I'm one of the lucky \"\n",
            "                                         'ones people are suffering people are '\n",
            "                                         'dying entire ecosystems are '\n",
            "                                         'collapsing we are in the beginning '\n",
            "                                         'of a mass extinction and all you can '\n",
            "                                         'talk about is the money and fairy '\n",
            "                                         'tales of Eternal economic growth how '\n",
            "                                         'dare you'},\n",
            "                       {   'transcript': \"this is all wrong I shouldn't be up \"\n",
            "                                         'here I should be back in school on '\n",
            "                                         'the other side of the ocean yet you '\n",
            "                                         'all come to us young people for Hope '\n",
            "                                         'how dare you you have stolen my '\n",
            "                                         'dreams and my childhood with your '\n",
            "                                         \"empty words yet I'm one of the lucky \"\n",
            "                                         'ones people are suffering people are '\n",
            "                                         'dying entire ecosystems are '\n",
            "                                         'collapsing we are in the beginning '\n",
            "                                         'of a mass extinction and all you can '\n",
            "                                         'talk about is money and fairy tales '\n",
            "                                         'of Eternal economic growth how dare '\n",
            "                                         'you'},\n",
            "                       {   'transcript': \"this is all wrong I shouldn't be up \"\n",
            "                                         'here I should be back in school on '\n",
            "                                         'the other side of the ocean yet '\n",
            "                                         \"you'll come to us young people for \"\n",
            "                                         'Hope how dare you you have stolen my '\n",
            "                                         'dreams and my childhood with your '\n",
            "                                         \"empty words and yet I'm one of the \"\n",
            "                                         'lucky ones people are suffering '\n",
            "                                         'people are dying entire ecosystems '\n",
            "                                         'are collapsing we are in the '\n",
            "                                         'beginning of a mass extinction and '\n",
            "                                         'all you can talk about is the money '\n",
            "                                         'and fairy tales of Eternal economic '\n",
            "                                         'growth how dare you'}],\n",
            "    'final': True}\n"
          ]
        },
        {
          "output_type": "execute_result",
          "data": {
            "text/plain": [
              "\"this is all wrong I shouldn't be up here I should be back in school on the other side of the ocean yet you all come to us young people for Hope how dare you you have stolen my dreams and my childhood with your empty words and yet I'm one of the lucky ones people are suffering people are dying entire ecosystems are collapsing we are in the beginning of a mass extinction and all you can talk about is the money and fairy tales of Eternal economic growth how dare you\""
            ],
            "application/vnd.google.colaboratory.intrinsic+json": {
              "type": "string"
            }
          },
          "metadata": {},
          "execution_count": 8
        }
      ],
      "source": [
        "# data path (video - mp4)\n",
        "clip = mp.VideoFileClip('data/Greta_UN.mp4') \n",
        "\n",
        "# extract audio from video file and save as wav form\n",
        "clip.audio.write_audiofile('data/Greta_UN.wav')\n",
        "\n",
        "audio = sr.AudioFile(\"data/Greta_UN.wav\")\n",
        "\n",
        "# recognise text from audio by using 'SpeechRecognition'\n",
        "with audio as source:\n",
        "  audio_file = r.record(source)\n",
        "  text = r.recognize_google(audio_file)\n",
        "\n",
        "text"
      ]
    }
  ]
}